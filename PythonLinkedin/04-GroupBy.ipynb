{
 "cells": [
  {
   "cell_type": "code",
   "execution_count": 1,
   "metadata": {},
   "outputs": [],
   "source": [
    "import pandas as pd\n",
    "df = pd.read_csv(\"./base_datos_2008.csv/base_datos_2008.csv\")"
   ]
  },
  {
   "cell_type": "code",
   "execution_count": 2,
   "metadata": {},
   "outputs": [
    {
     "data": {
      "text/plain": [
       "DayOfWeek\n",
       "1    1583.0\n",
       "2    1951.0\n",
       "3    1510.0\n",
       "4    2453.0\n",
       "5    1707.0\n",
       "6    1525.0\n",
       "7    2461.0\n",
       "Name: ArrDelay, dtype: float64"
      ]
     },
     "execution_count": 2,
     "metadata": {},
     "output_type": "execute_result"
    }
   ],
   "source": [
    "df.groupby(by= \"DayOfWeek\")[\"ArrDelay\"].max()"
   ]
  },
  {
   "cell_type": "code",
   "execution_count": 3,
   "metadata": {},
   "outputs": [
    {
     "data": {
      "text/plain": [
       "DayOfWeek\n",
       "1     8.210850\n",
       "2     7.481208\n",
       "3     6.522017\n",
       "4     8.411599\n",
       "5    10.953440\n",
       "6     5.789666\n",
       "7     9.495886\n",
       "Name: ArrDelay, dtype: float64"
      ]
     },
     "execution_count": 3,
     "metadata": {},
     "output_type": "execute_result"
    }
   ],
   "source": [
    "df.groupby(by= \"DayOfWeek\")[\"ArrDelay\"].mean()"
   ]
  },
  {
   "cell_type": "code",
   "execution_count": 4,
   "metadata": {},
   "outputs": [
    {
     "data": {
      "text/html": [
       "<div>\n",
       "<style scoped>\n",
       "    .dataframe tbody tr th:only-of-type {\n",
       "        vertical-align: middle;\n",
       "    }\n",
       "\n",
       "    .dataframe tbody tr th {\n",
       "        vertical-align: top;\n",
       "    }\n",
       "\n",
       "    .dataframe thead th {\n",
       "        text-align: right;\n",
       "    }\n",
       "</style>\n",
       "<table border=\"1\" class=\"dataframe\">\n",
       "  <thead>\n",
       "    <tr style=\"text-align: right;\">\n",
       "      <th></th>\n",
       "      <th>count</th>\n",
       "      <th>mean</th>\n",
       "      <th>std</th>\n",
       "      <th>min</th>\n",
       "      <th>25%</th>\n",
       "      <th>50%</th>\n",
       "      <th>75%</th>\n",
       "      <th>max</th>\n",
       "    </tr>\n",
       "    <tr>\n",
       "      <th>DayOfWeek</th>\n",
       "      <th></th>\n",
       "      <th></th>\n",
       "      <th></th>\n",
       "      <th></th>\n",
       "      <th></th>\n",
       "      <th></th>\n",
       "      <th></th>\n",
       "      <th></th>\n",
       "    </tr>\n",
       "  </thead>\n",
       "  <tbody>\n",
       "    <tr>\n",
       "      <th>1</th>\n",
       "      <td>1013410.0</td>\n",
       "      <td>8.210850</td>\n",
       "      <td>38.013811</td>\n",
       "      <td>-519.0</td>\n",
       "      <td>-10.0</td>\n",
       "      <td>-2.0</td>\n",
       "      <td>12.0</td>\n",
       "      <td>1583.0</td>\n",
       "    </tr>\n",
       "    <tr>\n",
       "      <th>2</th>\n",
       "      <td>1005992.0</td>\n",
       "      <td>7.481208</td>\n",
       "      <td>38.361073</td>\n",
       "      <td>-89.0</td>\n",
       "      <td>-11.0</td>\n",
       "      <td>-3.0</td>\n",
       "      <td>11.0</td>\n",
       "      <td>1951.0</td>\n",
       "    </tr>\n",
       "    <tr>\n",
       "      <th>3</th>\n",
       "      <td>1016995.0</td>\n",
       "      <td>6.522017</td>\n",
       "      <td>36.024679</td>\n",
       "      <td>-87.0</td>\n",
       "      <td>-10.0</td>\n",
       "      <td>-3.0</td>\n",
       "      <td>10.0</td>\n",
       "      <td>1510.0</td>\n",
       "    </tr>\n",
       "    <tr>\n",
       "      <th>4</th>\n",
       "      <td>1011970.0</td>\n",
       "      <td>8.411599</td>\n",
       "      <td>37.397411</td>\n",
       "      <td>-129.0</td>\n",
       "      <td>-10.0</td>\n",
       "      <td>-1.0</td>\n",
       "      <td>12.0</td>\n",
       "      <td>2453.0</td>\n",
       "    </tr>\n",
       "    <tr>\n",
       "      <th>5</th>\n",
       "      <td>1008872.0</td>\n",
       "      <td>10.953440</td>\n",
       "      <td>40.252320</td>\n",
       "      <td>-86.0</td>\n",
       "      <td>-9.0</td>\n",
       "      <td>0.0</td>\n",
       "      <td>15.0</td>\n",
       "      <td>1707.0</td>\n",
       "    </tr>\n",
       "    <tr>\n",
       "      <th>6</th>\n",
       "      <td>841663.0</td>\n",
       "      <td>5.789666</td>\n",
       "      <td>37.163120</td>\n",
       "      <td>-91.0</td>\n",
       "      <td>-11.0</td>\n",
       "      <td>-3.0</td>\n",
       "      <td>9.0</td>\n",
       "      <td>1525.0</td>\n",
       "    </tr>\n",
       "    <tr>\n",
       "      <th>7</th>\n",
       "      <td>956127.0</td>\n",
       "      <td>9.495886</td>\n",
       "      <td>41.759296</td>\n",
       "      <td>-92.0</td>\n",
       "      <td>-10.0</td>\n",
       "      <td>-2.0</td>\n",
       "      <td>12.0</td>\n",
       "      <td>2461.0</td>\n",
       "    </tr>\n",
       "  </tbody>\n",
       "</table>\n",
       "</div>"
      ],
      "text/plain": [
       "               count       mean        std    min   25%  50%   75%     max\n",
       "DayOfWeek                                                                 \n",
       "1          1013410.0   8.210850  38.013811 -519.0 -10.0 -2.0  12.0  1583.0\n",
       "2          1005992.0   7.481208  38.361073  -89.0 -11.0 -3.0  11.0  1951.0\n",
       "3          1016995.0   6.522017  36.024679  -87.0 -10.0 -3.0  10.0  1510.0\n",
       "4          1011970.0   8.411599  37.397411 -129.0 -10.0 -1.0  12.0  2453.0\n",
       "5          1008872.0  10.953440  40.252320  -86.0  -9.0  0.0  15.0  1707.0\n",
       "6           841663.0   5.789666  37.163120  -91.0 -11.0 -3.0   9.0  1525.0\n",
       "7           956127.0   9.495886  41.759296  -92.0 -10.0 -2.0  12.0  2461.0"
      ]
     },
     "execution_count": 4,
     "metadata": {},
     "output_type": "execute_result"
    }
   ],
   "source": [
    "df.groupby(by= \"DayOfWeek\")[\"ArrDelay\"].describe()"
   ]
  },
  {
   "cell_type": "code",
   "execution_count": 5,
   "metadata": {},
   "outputs": [
    {
     "name": "stderr",
     "output_type": "stream",
     "text": [
      "C:\\Users\\emida\\AppData\\Local\\Temp\\ipykernel_12232\\4234176038.py:1: FutureWarning: Indexing with multiple keys (implicitly converted to a tuple of keys) will be deprecated, use a list instead.\n",
      "  df.groupby(by= \"DayOfWeek\")[\"ArrDelay\",\"DepDelay\"].mean()\n"
     ]
    },
    {
     "data": {
      "text/html": [
       "<div>\n",
       "<style scoped>\n",
       "    .dataframe tbody tr th:only-of-type {\n",
       "        vertical-align: middle;\n",
       "    }\n",
       "\n",
       "    .dataframe tbody tr th {\n",
       "        vertical-align: top;\n",
       "    }\n",
       "\n",
       "    .dataframe thead th {\n",
       "        text-align: right;\n",
       "    }\n",
       "</style>\n",
       "<table border=\"1\" class=\"dataframe\">\n",
       "  <thead>\n",
       "    <tr style=\"text-align: right;\">\n",
       "      <th></th>\n",
       "      <th>ArrDelay</th>\n",
       "      <th>DepDelay</th>\n",
       "    </tr>\n",
       "    <tr>\n",
       "      <th>DayOfWeek</th>\n",
       "      <th></th>\n",
       "      <th></th>\n",
       "    </tr>\n",
       "  </thead>\n",
       "  <tbody>\n",
       "    <tr>\n",
       "      <th>1</th>\n",
       "      <td>8.210850</td>\n",
       "      <td>10.269990</td>\n",
       "    </tr>\n",
       "    <tr>\n",
       "      <th>2</th>\n",
       "      <td>7.481208</td>\n",
       "      <td>8.976897</td>\n",
       "    </tr>\n",
       "    <tr>\n",
       "      <th>3</th>\n",
       "      <td>6.522017</td>\n",
       "      <td>8.289761</td>\n",
       "    </tr>\n",
       "    <tr>\n",
       "      <th>4</th>\n",
       "      <td>8.411599</td>\n",
       "      <td>9.772897</td>\n",
       "    </tr>\n",
       "    <tr>\n",
       "      <th>5</th>\n",
       "      <td>10.953440</td>\n",
       "      <td>12.158036</td>\n",
       "    </tr>\n",
       "    <tr>\n",
       "      <th>6</th>\n",
       "      <td>5.789666</td>\n",
       "      <td>8.645681</td>\n",
       "    </tr>\n",
       "    <tr>\n",
       "      <th>7</th>\n",
       "      <td>9.495886</td>\n",
       "      <td>11.568973</td>\n",
       "    </tr>\n",
       "  </tbody>\n",
       "</table>\n",
       "</div>"
      ],
      "text/plain": [
       "            ArrDelay   DepDelay\n",
       "DayOfWeek                      \n",
       "1           8.210850  10.269990\n",
       "2           7.481208   8.976897\n",
       "3           6.522017   8.289761\n",
       "4           8.411599   9.772897\n",
       "5          10.953440  12.158036\n",
       "6           5.789666   8.645681\n",
       "7           9.495886  11.568973"
      ]
     },
     "execution_count": 5,
     "metadata": {},
     "output_type": "execute_result"
    }
   ],
   "source": [
    "df.groupby(by= \"DayOfWeek\")[\"ArrDelay\",\"DepDelay\"].mean()"
   ]
  },
  {
   "cell_type": "code",
   "execution_count": 6,
   "metadata": {},
   "outputs": [
    {
     "data": {
      "text/plain": [
       "DayOfWeek\n",
       "1    2102.0\n",
       "2    2040.0\n",
       "3    1597.0\n",
       "4    2582.0\n",
       "5    1793.0\n",
       "6    1616.0\n",
       "7    2553.0\n",
       "Name: ArrDelay, dtype: float64"
      ]
     },
     "execution_count": 6,
     "metadata": {},
     "output_type": "execute_result"
    }
   ],
   "source": [
    "df.groupby(by= \"DayOfWeek\")[\"ArrDelay\"].max() - df.groupby(by= \"DayOfWeek\")[\"ArrDelay\"].min()"
   ]
  },
  {
   "cell_type": "code",
   "execution_count": 11,
   "metadata": {},
   "outputs": [],
   "source": [
    "dfALTHOU = df[df.Origin.isin([\"ALT\",\"HOU\"])]"
   ]
  },
  {
   "cell_type": "code",
   "execution_count": 12,
   "metadata": {},
   "outputs": [
    {
     "data": {
      "text/plain": [
       "DayOfWeek  Origin\n",
       "1          HOU        6.356856\n",
       "2          HOU        9.348112\n",
       "3          HOU        9.073109\n",
       "4          HOU       12.994016\n",
       "5          HOU       11.036545\n",
       "6          HOU        4.283933\n",
       "7          HOU        7.045287\n",
       "Name: ArrDelay, dtype: float64"
      ]
     },
     "execution_count": 12,
     "metadata": {},
     "output_type": "execute_result"
    }
   ],
   "source": [
    "dfALTHOU.groupby(by= [\"DayOfWeek\",\"Origin\"])[\"ArrDelay\"].mean()"
   ]
  },
  {
   "cell_type": "code",
   "execution_count": 13,
   "metadata": {},
   "outputs": [
    {
     "data": {
      "text/plain": [
       "Origin  DayOfWeek\n",
       "HOU     1             6.356856\n",
       "        2             9.348112\n",
       "        3             9.073109\n",
       "        4            12.994016\n",
       "        5            11.036545\n",
       "        6             4.283933\n",
       "        7             7.045287\n",
       "Name: ArrDelay, dtype: float64"
      ]
     },
     "execution_count": 13,
     "metadata": {},
     "output_type": "execute_result"
    }
   ],
   "source": [
    "dfALTHOU.groupby(by= [\"Origin\", \"DayOfWeek\"])[\"ArrDelay\"].mean()"
   ]
  },
  {
   "cell_type": "code",
   "execution_count": 14,
   "metadata": {},
   "outputs": [],
   "source": [
    "mygroupby = dfALTHOU.groupby(by= [\"Origin\", \"DayOfWeek\"])[\"ArrDelay\"]"
   ]
  },
  {
   "cell_type": "code",
   "execution_count": 15,
   "metadata": {},
   "outputs": [
    {
     "data": {
      "text/plain": [
       "Origin  DayOfWeek\n",
       "HOU     1             383.0\n",
       "        2             546.0\n",
       "        3             639.0\n",
       "        4            1082.0\n",
       "        5             560.0\n",
       "        6             917.0\n",
       "        7             685.0\n",
       "Name: ArrDelay, dtype: float64"
      ]
     },
     "execution_count": 15,
     "metadata": {},
     "output_type": "execute_result"
    }
   ],
   "source": [
    "mygroupby.max()"
   ]
  }
 ],
 "metadata": {
  "kernelspec": {
   "display_name": "Python 3",
   "language": "python",
   "name": "python3"
  },
  "language_info": {
   "codemirror_mode": {
    "name": "ipython",
    "version": 3
   },
   "file_extension": ".py",
   "mimetype": "text/x-python",
   "name": "python",
   "nbconvert_exporter": "python",
   "pygments_lexer": "ipython3",
   "version": "3.10.11"
  },
  "orig_nbformat": 4
 },
 "nbformat": 4,
 "nbformat_minor": 2
}
