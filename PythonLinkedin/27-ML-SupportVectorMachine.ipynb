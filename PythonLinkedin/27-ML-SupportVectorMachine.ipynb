{
 "cells": [
  {
   "cell_type": "code",
   "execution_count": 1,
   "metadata": {},
   "outputs": [],
   "source": [
    "from sklearn.svm import SVC\n",
    "import numpy as np\n",
    "import pandas as pd\n",
    "\n",
    "df = pd.read_csv(\"../base_datos_2008.csv/base_datos_2008.csv\")\n",
    "df = df.dropna(subset=[\"ArrDelay\"])\n",
    "df = df.sample(frac=1)\n",
    "dftest = df.tail(1000)\n",
    "df = df.head(1000)"
   ]
  },
  {
   "cell_type": "code",
   "execution_count": 2,
   "metadata": {},
   "outputs": [
    {
     "name": "stderr",
     "output_type": "stream",
     "text": [
      "C:\\Users\\emida\\AppData\\Local\\Packages\\PythonSoftwareFoundation.Python.3.10_qbz5n2kfra8p0\\LocalCache\\local-packages\\Python310\\site-packages\\sklearn\\utils\\validation.py:1143: DataConversionWarning: A column-vector y was passed when a 1d array was expected. Please change the shape of y to (n_samples, ), for example using ravel().\n",
      "  y = column_or_1d(y, warn=True)\n"
     ]
    }
   ],
   "source": [
    "X = df[[\"Distance\",\"AirTime\", \"DepTime\", \"TaxiIn\", \"TaxiOut\", \"DepDelay\"]]\n",
    "X_test = dftest[[\"Distance\",\"AirTime\", \"DepTime\", \"TaxiIn\", \"TaxiOut\", \"DepDelay\"]]\n",
    "\n",
    "Y = df[[\"ArrDelay\"]] > 10\n",
    "Y_test = dftest[[\"ArrDelay\"]] > 10\n",
    "\n",
    "clf = SVC() # kernel=\"lineal\"\n",
    "clf.fit(X,Y)\n",
    "\n",
    "Y_pred = clf.predict(X_test)"
   ]
  },
  {
   "cell_type": "code",
   "execution_count": null,
   "metadata": {},
   "outputs": [],
   "source": [
    "np.mean(Y_pred == Y_test)"
   ]
  },
  {
   "cell_type": "code",
   "execution_count": null,
   "metadata": {},
   "outputs": [],
   "source": [
    "# http://scikit-learn.org/stable/modules/svm.html#svm-kernels\n",
    "# linear / poly / rbf / sigmoid -> Asociado a otros parámetro\n",
    "# Para kernels lineales ->  LinearSVC()"
   ]
  }
 ],
 "metadata": {
  "kernelspec": {
   "display_name": "Python 3",
   "language": "python",
   "name": "python3"
  },
  "language_info": {
   "codemirror_mode": {
    "name": "ipython",
    "version": 3
   },
   "file_extension": ".py",
   "mimetype": "text/x-python",
   "name": "python",
   "nbconvert_exporter": "python",
   "pygments_lexer": "ipython3",
   "version": "3.10.11"
  },
  "orig_nbformat": 4
 },
 "nbformat": 4,
 "nbformat_minor": 2
}
